{
 "cells": [
  {
   "cell_type": "code",
   "execution_count": 2,
   "metadata": {},
   "outputs": [],
   "source": [
    "class Solution:\n",
    "    def groupAnagrams(self, strs): \n",
    "        \n",
    "        \n",
    "        dict_str = {}\n",
    "        # 각 문자열을 알파벳으로 구분된 리스트로 만듦\n",
    "        \n",
    "        \n",
    "        dict_str = {}\n",
    "        for str in strs:\n",
    "            #알파벳 리스트로 변환\n",
    "            list_str = list(str)\n",
    "            \n",
    "            #(sort는 원래꺼 정렬)\n",
    "            list_str.sort()\n",
    "            list_str = ''.join(list_str)\n",
    "\n",
    "            # 애너그램이 키, 애너그램 같은 아이들 밸류에 같이 넣기\n",
    "            if list_str not in dict_str:\n",
    "                dict_str[list_str] = [str]\n",
    "            else:\n",
    "                dict_str[list_str] += [str]\n",
    "\n",
    "        return dict_str.values()\n",
    "    \n",
    "        # result = []\n",
    "        # for value in dict_str.values():\n",
    "        #     result.append(value)\n",
    "        # return result\n",
    "            \n",
    "    "
   ]
  },
  {
   "cell_type": "markdown",
   "metadata": {},
   "source": [
    "# defaultdic : key 설정 없이 타입만 지정해서 딕셔너리 만듦"
   ]
  },
  {
   "cell_type": "code",
   "execution_count": null,
   "metadata": {},
   "outputs": [],
   "source": [
    "from collections import defaultdict\n",
    "\n",
    "class Solution:\n",
    "    def groupAnagrams(self, strs: List[str]) -> List[List[str]]:\n",
    "        \n",
    "        # 디폴트딕트를 리스트 선언\n",
    "        dict = defaultdict(list)\n",
    "\n",
    "        # 문자열 알파벳순 정렬 뒤 하나의 문자열로 만듦\n",
    "        # 정렬된 문자열을 키로, 원본은 딕셔너리에 리스트 형태로 넣음 \n",
    "        for str in strs:\n",
    "            dict[\"\".join(sorted(str))].append(str)\n",
    "        return dict.values()\n",
    "    \n",
    "\n",
    "'''\n",
    "그냥 dict 로 넣으면 밸류가 중복됨\n",
    "디폴트 딕트로 키 넣어주고 키에 대한 밸류는 append 해주면 중복 처리 쉬움 \n",
    "'''"
   ]
  }
 ],
 "metadata": {
  "kernelspec": {
   "display_name": "Python 3",
   "language": "python",
   "name": "python3"
  },
  "language_info": {
   "codemirror_mode": {
    "name": "ipython",
    "version": 3
   },
   "file_extension": ".py",
   "mimetype": "text/x-python",
   "name": "python",
   "nbconvert_exporter": "python",
   "pygments_lexer": "ipython3",
   "version": "3.9.13"
  }
 },
 "nbformat": 4,
 "nbformat_minor": 2
}
