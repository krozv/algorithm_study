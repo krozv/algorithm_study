{
 "cells": [
  {
   "cell_type": "code",
   "execution_count": null,
   "metadata": {},
   "outputs": [],
   "source": [
    "class Solution:\n",
    "    def longestPalindrome(self, s: str) -> str:\n",
    "\n",
    "        s_list = list(s)\n",
    "        N = len(s_list)\n",
    "\n",
    "\n",
    "        if N == 1 or s_list == s_list[::-1]:\n",
    "            return s\n",
    "\n",
    "        elif N == 2:\n",
    "            if s_list[0] == s_list[1]:\n",
    "                return s\n",
    "            else:\n",
    "                return s_list[0]\n",
    "\n",
    "        else:\n",
    "        \n",
    "            pals = []\n",
    "\n",
    "            for i in range(N):\n",
    "                for j in range(N):\n",
    "\n",
    "                # 문자열 개수는 같지만 한개 겹치게 자르기\n",
    "                    if 0<= (i+j-1)+j <=N and 0<= i+j <=N and 0<= i+j-1 <=N:\n",
    "                        x, y = s_list[i:i+j] , s_list[i+j-1:(i+j-1)+j]\n",
    "                        \n",
    "                        #슬라이싱 결과가 같을떄 사이 하나 빼고 추가\n",
    "                        if x == y[::-1]:\n",
    "                            pals.append(''.join(x[:-1]+x[::-1]))\n",
    "\n",
    "                    # 안 겹치게 자르기                     \n",
    "                    if 0<= i+j<=N and 0<= i+j+j <=N:\n",
    "                        x,y = s_list[i:i+j], s_list[i+j:(i+j)+j]\n",
    "\n",
    "                        #두개 합쳐서 추가\n",
    "                        if x == y[::-1]:\n",
    "                            pals.append(''.join(x+x[::-1]))\n",
    "\n",
    "            \n",
    "            max= ''\n",
    "            for pal in pals:\n",
    "                if len(pal) >= len(max):\n",
    "                    max = pal\n",
    "                \n",
    "\n",
    "            return max\n",
    "\n"
   ]
  },
  {
   "cell_type": "markdown",
   "metadata": {},
   "source": [
    "# 시간초과..."
   ]
  }
 ],
 "metadata": {
  "language_info": {
   "name": "python"
  }
 },
 "nbformat": 4,
 "nbformat_minor": 2
}
